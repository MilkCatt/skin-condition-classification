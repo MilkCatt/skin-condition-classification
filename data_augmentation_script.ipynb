{
 "cells": [
  {
   "cell_type": "code",
   "execution_count": 4,
   "metadata": {},
   "outputs": [
    {
     "name": "stdout",
     "output_type": "stream",
     "text": [
      "Augmentation completed for class: Chickenpox\n",
      "Augmentation completed for class: Measles\n",
      "Augmentation completed for class: Monkeypox\n",
      "Augmentation completed for class: Normal\n"
     ]
    }
   ],
   "source": [
    "import os\n",
    "import random\n",
    "from PIL import Image\n",
    "import torch\n",
    "from torchvision import transforms\n",
    "from torchvision.datasets import ImageFolder\n",
    "from pathlib import Path\n",
    "\n",
    "# Set Data size\n",
    "data_size = 300\n",
    "\n",
    "# Define input and output paths\n",
    "input_path = './data'\n",
    "output_path = f'./augmented_data_{data_size}'\n",
    "\n",
    "# Ensure output directory exists\n",
    "Path(output_path).mkdir(parents=True, exist_ok=True)\n",
    "\n",
    "# Define the augmentations\n",
    "augmentations = transforms.Compose([\n",
    "    transforms.RandomHorizontalFlip(),\n",
    "    transforms.RandomVerticalFlip(),\n",
    "    transforms.RandomRotation(degrees=45),\n",
    "    transforms.ColorJitter(brightness=0.5, contrast=0.5),\n",
    "    transforms.RandomResizedCrop(size=(256, 256), scale=(0.8, 1.0)),\n",
    "])\n",
    "\n",
    "# Load dataset\n",
    "dataset = ImageFolder(root=input_path)\n",
    "\n",
    "# Function to augment and save images\n",
    "def augment_and_save_image(image, save_path, img_name, num_augmented):\n",
    "    for i in range(num_augmented):\n",
    "        augmented_image = augmentations(image)\n",
    "        new_img_name = f\"{img_name}_aug_{i+1}.png\"\n",
    "        augmented_image.save(os.path.join(save_path, new_img_name))\n",
    "\n",
    "# Count and augment images for each class folder\n",
    "for class_name in dataset.classes:\n",
    "    class_path = os.path.join(input_path, class_name)\n",
    "    class_output_path = os.path.join(output_path, class_name)\n",
    "    Path(class_output_path).mkdir(parents=True, exist_ok=True)\n",
    "    \n",
    "    current_images = os.listdir(class_path)\n",
    "    num_existing_images = len(current_images)\n",
    "    \n",
    "    if num_existing_images >= data_size:\n",
    "        print(f\"{class_name} already has {data_size} or more images.\")\n",
    "        continue\n",
    "\n",
    "    num_augmented_images_needed = data_size - num_existing_images\n",
    "    \n",
    "    # Augment existing images until we reach 300 images\n",
    "    for idx, img_name in enumerate(current_images):\n",
    "        if num_existing_images + idx >= data_size:\n",
    "            break\n",
    "        img_path = os.path.join(class_path, img_name)\n",
    "        image = Image.open(img_path)\n",
    "\n",
    "        # Save the original image in the output folder\n",
    "        image.save(os.path.join(class_output_path, img_name))\n",
    "\n",
    "        # Calculate how many augmentations to apply per image\n",
    "        num_augment_per_image = num_augmented_images_needed // num_existing_images + 1\n",
    "\n",
    "        # Augment and save images\n",
    "        augment_and_save_image(image, class_output_path, img_name.split('.')[0], num_augment_per_image)\n",
    "\n",
    "    print(f\"Augmentation completed for class: {class_name}\")"
   ]
  }
 ],
 "metadata": {
  "language_info": {
   "name": "python"
  }
 },
 "nbformat": 4,
 "nbformat_minor": 2
}
